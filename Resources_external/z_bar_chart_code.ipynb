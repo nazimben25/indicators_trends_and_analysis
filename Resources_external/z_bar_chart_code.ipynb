{
 "cells": [
  {
   "cell_type": "code",
   "execution_count": null,
   "metadata": {},
   "outputs": [],
   "source": [
    "df = imm_race\n",
    "bcr.bar_chart_race(\n",
    "        df=df, \n",
    "        filename='Output/monthly_immigration_flow_to_canada.gif', \n",
    "\n",
    "        orientation='h', \n",
    "        sort='desc', \n",
    "        n_bars=12, \n",
    "        fixed_order=False, \n",
    "        fixed_max=True, \n",
    "        steps_per_period=20, \n",
    "        period_length=750, \n",
    "        # end_period_pause=0,\n",
    "        interpolate_period=False, \n",
    "        period_label={'x': .98, 'y': .3, 'ha': 'right', 'va': 'center'}, \n",
    "        # period_template='%B %d, %Y', \n",
    "        period_summary_func=lambda v, r: {'x': .98, 'y': .2, \n",
    "                                          's': f'Number of immigrants: {v.sum():,.0f}', \n",
    "                                          'ha': 'right', 'size': 11}, \n",
    "        perpendicular_bar_func='median', \n",
    "        # colors='dark12', \n",
    "        title='Monthly immigration flow to canada', \n",
    "        bar_size=.95, \n",
    "        # bar_textposition='inside',\n",
    "        # bar_texttemplate='{x:,.0f}', \n",
    "        # bar_label_font=7, \n",
    "        # tick_label_font=7, \n",
    "        # tick_template='{x:,.0f}',\n",
    "        shared_fontdict=None, \n",
    "        scale='linear', \n",
    "        fig=None, \n",
    "        writer=None, \n",
    "        bar_kwargs={'alpha': .7},\n",
    "        # fig_kwargs={'figsize': (6, 3.5), 'dpi': 144},\n",
    "        filter_column_colors=False) "
   ]
  }
 ],
 "metadata": {
  "language_info": {
   "name": "python"
  }
 },
 "nbformat": 4,
 "nbformat_minor": 2
}
